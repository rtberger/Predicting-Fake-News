{
 "cells": [
  {
   "cell_type": "markdown",
   "id": "e87405fd-2361-4f01-8be1-869f98130bc0",
   "metadata": {},
   "source": [
    "\n",
    "# SI 370 - Homework 6 "
   ]
  },
  {
   "cell_type": "markdown",
   "id": "ffe60385-731d-4776-b708-f6a22049a80d",
   "metadata": {},
   "source": [
    "Version 2022.11.16"
   ]
  },
  {
   "cell_type": "markdown",
   "id": "beeffe6b-956f-4c07-aa7d-fee74ee60bfe",
   "metadata": {},
   "source": [
    "In this assignment, you'll apply your knowledge of classification to text analysis, specifically real and fake news. Your task is to predict whether a news article is real or fake using the available information.\n",
    "\n",
    "The dataset that you'll use is described at https://www.kaggle.com/datasets/clmentbisaillon/fake-and-real-news-dataset\n",
    "as well as the following references:\n",
    "\n",
    "Ahmed H, Traore I, Saad S. “Detecting opinion spams and fake news using text classification”, Journal of Security and Privacy, Volume 1, Issue 1, Wiley, January/February 2018.\n",
    "\n",
    "Ahmed H, Traore I, Saad S. (2017) “Detection of Online Fake News Using N-Gram Analysis and Machine Learning Techniques. In: Traore I., Woungang I., Awad A. (eds) Intelligent, Secure, and Dependable Systems in Distributed and Cloud Environments. ISDDC 2017. Lecture Notes in Computer Science, vol 10618. Springer, Cham (pp. 127-138).\n",
    "\n",
    "You will probably get the most informative information from the content of the articles as well as their titles.  \n",
    "\n",
    "You have at your disposal several\n",
    "techniques that you can use to create features from text, including, word embedding, part-of-speech analysis (from SI 330), and so on.  You might want to use CountVectorizer and/or TfidfVectorizer from the\n",
    "sklearn.feature_extraction library, which are described below.\n",
    "\n",
    "You should pre-process your text using at least some of the steps outlined in lectures (e.g. normalizing to lowercase, splitting into words, etc.).\n",
    "\n",
    "The articles are provided in two different files: Fake.csv and True.csv.  We recommend that you create a dataframe with the contents of those files combined, including a new column that specifies whether the article is real or fake (note that you can use whatever coding you want for \"real\" vs. \"fake\", e.g. 1 and 0, \"real\" and \"fake\", \"false\" and \"true\" -- whatever works for you.\n",
    "\n",
    "You should split the resulting combined dataframe into training and testing datasets OR use cross-validation.  If you go the splitting-into-training-and-testing route, we recommend an 80-20 split (i.e. training gets 80% of the data; testing gets 20%) and use the testing dataset to report your accuracy score.  If you go the cross-validation route, we recommend using 5-fold cross-validation and use the mean accuracy score for your 5 folds when reporting your accuracy score.\n",
    "\n",
    "\n",
    "Much like the previous homework assignment, you'll want to try a variety of classifiers and possibly use an ensemble.  And, in a similar way to the previous homework assignment, your submission (to Canvas -- there is no requirement to submit this anywhere else, including Kaggle) should be based on a Jupyter notebook that you create.\n",
    "\n",
    "Points will be allocated as follows:\n",
    "\n",
    "| Component | Points |\n",
    "|:---|:---|\n",
    "|1. Text pre-processing and feature extraction, including justification for your choices| 8 |\n",
    "|2. Use of at least three classifiers, not including VotingClassifier (if you use it) |  6  |\n",
    "|3. Accuracy (based on test dataset)| 75%: 2 , 80%: 4 , 90%: 6  |\n",
    "\n",
    "Note that you are welcome to use VotingClassifier to improve your accuracy, you just can't count it as one of the three classifiers for points in Component 2.\n"
   ]
  },
  {
   "cell_type": "code",
   "execution_count": 109,
   "id": "ce6ec4a8-7034-4925-a30d-4e174ebb5a8e",
   "metadata": {},
   "outputs": [],
   "source": [
    "import pandas as pd\n",
    "import numpy as np\n",
    "import matplotlib.pyplot as plt\n",
    "%matplotlib inline\n",
    "import seaborn as sns\n",
    "\n",
    "import nltk\n",
    "from nltk.corpus import stopwords\n",
    "\n",
    "\n",
    "from sklearn.model_selection import train_test_split\n",
    "from sklearn.metrics import confusion_matrix, classification_report\n",
    "\n",
    "from sklearn.naive_bayes import GaussianNB\n",
    "from sklearn.tree import DecisionTreeClassifier\n",
    "from sklearn.ensemble import ExtraTreesClassifier\n",
    "from sklearn.ensemble import RandomForestClassifier\n",
    "from sklearn.ensemble import VotingClassifier\n",
    "\n",
    "from sklearn.feature_extraction.text import TfidfVectorizer"
   ]
  },
  {
   "cell_type": "code",
   "execution_count": 110,
   "id": "05defa17-cce5-45a0-a7e6-dd30c214456a",
   "metadata": {},
   "outputs": [],
   "source": [
    "true = pd.read_csv('True.csv')\n",
    "fake = pd.read_csv('Fake.csv')"
   ]
  },
  {
   "cell_type": "code",
   "execution_count": 111,
   "id": "0483d225-436c-4cc0-9768-7289a489569e",
   "metadata": {},
   "outputs": [
    {
     "name": "stdout",
     "output_type": "stream",
     "text": [
      "<class 'pandas.core.frame.DataFrame'>\n",
      "RangeIndex: 21417 entries, 0 to 21416\n",
      "Data columns (total 4 columns):\n",
      " #   Column   Non-Null Count  Dtype \n",
      "---  ------   --------------  ----- \n",
      " 0   title    21417 non-null  object\n",
      " 1   text     21417 non-null  object\n",
      " 2   subject  21417 non-null  object\n",
      " 3   date     21417 non-null  object\n",
      "dtypes: object(4)\n",
      "memory usage: 669.4+ KB\n"
     ]
    }
   ],
   "source": [
    "true.info()"
   ]
  },
  {
   "cell_type": "code",
   "execution_count": 112,
   "id": "583cfe33-57bf-4122-9781-9ebaae63402e",
   "metadata": {},
   "outputs": [
    {
     "name": "stdout",
     "output_type": "stream",
     "text": [
      "<class 'pandas.core.frame.DataFrame'>\n",
      "RangeIndex: 23481 entries, 0 to 23480\n",
      "Data columns (total 4 columns):\n",
      " #   Column   Non-Null Count  Dtype \n",
      "---  ------   --------------  ----- \n",
      " 0   title    23481 non-null  object\n",
      " 1   text     23481 non-null  object\n",
      " 2   subject  23481 non-null  object\n",
      " 3   date     23481 non-null  object\n",
      "dtypes: object(4)\n",
      "memory usage: 733.9+ KB\n"
     ]
    }
   ],
   "source": [
    "fake.info()"
   ]
  },
  {
   "cell_type": "code",
   "execution_count": 113,
   "id": "a9a3c6ff-dc6e-4b20-b91d-24509455e946",
   "metadata": {},
   "outputs": [
    {
     "name": "stdout",
     "output_type": "stream",
     "text": [
      "Fake Subjects: ['News' 'politics' 'Government News' 'left-news' 'US_News' 'Middle-east']\n",
      "Real Subjects: ['politicsNews' 'worldnews']\n"
     ]
    }
   ],
   "source": [
    "print('Fake Subjects: {}'.format(fake.subject.unique()))\n",
    "print('Real Subjects: {}'.format(true.subject.unique()))"
   ]
  },
  {
   "cell_type": "markdown",
   "id": "59280884-c24d-4640-81c3-c3bafbea9609",
   "metadata": {},
   "source": [
    "There is the potential for data leakage if these subject columns are used in our classifiers, as the word 'News' is used by both datasets and does not provide much information in terms of determining the truth of an article. The same principle likely applies for the date column as well, so these will be removed prior to making the training and test datasets."
   ]
  },
  {
   "cell_type": "code",
   "execution_count": 114,
   "id": "4de13cc7-c4d5-4baa-a380-4a8af2ca8193",
   "metadata": {},
   "outputs": [],
   "source": [
    "fake['Truth'] = 0\n",
    "true['Truth'] = 1"
   ]
  },
  {
   "cell_type": "code",
   "execution_count": 115,
   "id": "7005d59c-dc48-4e89-88b8-0b2005360984",
   "metadata": {},
   "outputs": [
    {
     "data": {
      "text/html": [
       "<div>\n",
       "<style scoped>\n",
       "    .dataframe tbody tr th:only-of-type {\n",
       "        vertical-align: middle;\n",
       "    }\n",
       "\n",
       "    .dataframe tbody tr th {\n",
       "        vertical-align: top;\n",
       "    }\n",
       "\n",
       "    .dataframe thead th {\n",
       "        text-align: right;\n",
       "    }\n",
       "</style>\n",
       "<table border=\"1\" class=\"dataframe\">\n",
       "  <thead>\n",
       "    <tr style=\"text-align: right;\">\n",
       "      <th></th>\n",
       "      <th>title</th>\n",
       "      <th>text</th>\n",
       "      <th>subject</th>\n",
       "      <th>date</th>\n",
       "      <th>Truth</th>\n",
       "    </tr>\n",
       "  </thead>\n",
       "  <tbody>\n",
       "    <tr>\n",
       "      <th>0</th>\n",
       "      <td>As U.S. budget fight looms, Republicans flip t...</td>\n",
       "      <td>WASHINGTON (Reuters) - The head of a conservat...</td>\n",
       "      <td>politicsNews</td>\n",
       "      <td>December 31, 2017</td>\n",
       "      <td>1</td>\n",
       "    </tr>\n",
       "    <tr>\n",
       "      <th>1</th>\n",
       "      <td>U.S. military to accept transgender recruits o...</td>\n",
       "      <td>WASHINGTON (Reuters) - Transgender people will...</td>\n",
       "      <td>politicsNews</td>\n",
       "      <td>December 29, 2017</td>\n",
       "      <td>1</td>\n",
       "    </tr>\n",
       "    <tr>\n",
       "      <th>2</th>\n",
       "      <td>Senior U.S. Republican senator: 'Let Mr. Muell...</td>\n",
       "      <td>WASHINGTON (Reuters) - The special counsel inv...</td>\n",
       "      <td>politicsNews</td>\n",
       "      <td>December 31, 2017</td>\n",
       "      <td>1</td>\n",
       "    </tr>\n",
       "    <tr>\n",
       "      <th>3</th>\n",
       "      <td>FBI Russia probe helped by Australian diplomat...</td>\n",
       "      <td>WASHINGTON (Reuters) - Trump campaign adviser ...</td>\n",
       "      <td>politicsNews</td>\n",
       "      <td>December 30, 2017</td>\n",
       "      <td>1</td>\n",
       "    </tr>\n",
       "    <tr>\n",
       "      <th>4</th>\n",
       "      <td>Trump wants Postal Service to charge 'much mor...</td>\n",
       "      <td>SEATTLE/WASHINGTON (Reuters) - President Donal...</td>\n",
       "      <td>politicsNews</td>\n",
       "      <td>December 29, 2017</td>\n",
       "      <td>1</td>\n",
       "    </tr>\n",
       "  </tbody>\n",
       "</table>\n",
       "</div>"
      ],
      "text/plain": [
       "                                               title  \\\n",
       "0  As U.S. budget fight looms, Republicans flip t...   \n",
       "1  U.S. military to accept transgender recruits o...   \n",
       "2  Senior U.S. Republican senator: 'Let Mr. Muell...   \n",
       "3  FBI Russia probe helped by Australian diplomat...   \n",
       "4  Trump wants Postal Service to charge 'much mor...   \n",
       "\n",
       "                                                text       subject  \\\n",
       "0  WASHINGTON (Reuters) - The head of a conservat...  politicsNews   \n",
       "1  WASHINGTON (Reuters) - Transgender people will...  politicsNews   \n",
       "2  WASHINGTON (Reuters) - The special counsel inv...  politicsNews   \n",
       "3  WASHINGTON (Reuters) - Trump campaign adviser ...  politicsNews   \n",
       "4  SEATTLE/WASHINGTON (Reuters) - President Donal...  politicsNews   \n",
       "\n",
       "                 date  Truth  \n",
       "0  December 31, 2017       1  \n",
       "1  December 29, 2017       1  \n",
       "2  December 31, 2017       1  \n",
       "3  December 30, 2017       1  \n",
       "4  December 29, 2017       1  "
      ]
     },
     "metadata": {},
     "output_type": "display_data"
    }
   ],
   "source": [
    "# Merging the two datasets\n",
    "news = pd.concat([true, fake], axis=0)\n",
    "display(news.head())"
   ]
  },
  {
   "cell_type": "code",
   "execution_count": 116,
   "id": "4cbe44fd-32a0-400b-ae55-79257622965f",
   "metadata": {},
   "outputs": [],
   "source": [
    "news = news.drop(['title', 'subject', 'date'], axis=1)"
   ]
  },
  {
   "cell_type": "code",
   "execution_count": 117,
   "id": "49c4607d-c198-488d-9af8-94e72e8d09d9",
   "metadata": {},
   "outputs": [
    {
     "data": {
      "text/html": [
       "<div>\n",
       "<style scoped>\n",
       "    .dataframe tbody tr th:only-of-type {\n",
       "        vertical-align: middle;\n",
       "    }\n",
       "\n",
       "    .dataframe tbody tr th {\n",
       "        vertical-align: top;\n",
       "    }\n",
       "\n",
       "    .dataframe thead th {\n",
       "        text-align: right;\n",
       "    }\n",
       "</style>\n",
       "<table border=\"1\" class=\"dataframe\">\n",
       "  <thead>\n",
       "    <tr style=\"text-align: right;\">\n",
       "      <th></th>\n",
       "      <th>text</th>\n",
       "      <th>Truth</th>\n",
       "    </tr>\n",
       "  </thead>\n",
       "  <tbody>\n",
       "    <tr>\n",
       "      <th>0</th>\n",
       "      <td>WASHINGTON (Reuters) - The head of a conservat...</td>\n",
       "      <td>1</td>\n",
       "    </tr>\n",
       "    <tr>\n",
       "      <th>1</th>\n",
       "      <td>WASHINGTON (Reuters) - Transgender people will...</td>\n",
       "      <td>1</td>\n",
       "    </tr>\n",
       "    <tr>\n",
       "      <th>2</th>\n",
       "      <td>WASHINGTON (Reuters) - The special counsel inv...</td>\n",
       "      <td>1</td>\n",
       "    </tr>\n",
       "    <tr>\n",
       "      <th>3</th>\n",
       "      <td>WASHINGTON (Reuters) - Trump campaign adviser ...</td>\n",
       "      <td>1</td>\n",
       "    </tr>\n",
       "    <tr>\n",
       "      <th>4</th>\n",
       "      <td>SEATTLE/WASHINGTON (Reuters) - President Donal...</td>\n",
       "      <td>1</td>\n",
       "    </tr>\n",
       "    <tr>\n",
       "      <th>...</th>\n",
       "      <td>...</td>\n",
       "      <td>...</td>\n",
       "    </tr>\n",
       "    <tr>\n",
       "      <th>23476</th>\n",
       "      <td>21st Century Wire says As 21WIRE reported earl...</td>\n",
       "      <td>0</td>\n",
       "    </tr>\n",
       "    <tr>\n",
       "      <th>23477</th>\n",
       "      <td>21st Century Wire says It s a familiar theme. ...</td>\n",
       "      <td>0</td>\n",
       "    </tr>\n",
       "    <tr>\n",
       "      <th>23478</th>\n",
       "      <td>Patrick Henningsen  21st Century WireRemember ...</td>\n",
       "      <td>0</td>\n",
       "    </tr>\n",
       "    <tr>\n",
       "      <th>23479</th>\n",
       "      <td>21st Century Wire says Al Jazeera America will...</td>\n",
       "      <td>0</td>\n",
       "    </tr>\n",
       "    <tr>\n",
       "      <th>23480</th>\n",
       "      <td>21st Century Wire says As 21WIRE predicted in ...</td>\n",
       "      <td>0</td>\n",
       "    </tr>\n",
       "  </tbody>\n",
       "</table>\n",
       "<p>44898 rows × 2 columns</p>\n",
       "</div>"
      ],
      "text/plain": [
       "                                                    text  Truth\n",
       "0      WASHINGTON (Reuters) - The head of a conservat...      1\n",
       "1      WASHINGTON (Reuters) - Transgender people will...      1\n",
       "2      WASHINGTON (Reuters) - The special counsel inv...      1\n",
       "3      WASHINGTON (Reuters) - Trump campaign adviser ...      1\n",
       "4      SEATTLE/WASHINGTON (Reuters) - President Donal...      1\n",
       "...                                                  ...    ...\n",
       "23476  21st Century Wire says As 21WIRE reported earl...      0\n",
       "23477  21st Century Wire says It s a familiar theme. ...      0\n",
       "23478  Patrick Henningsen  21st Century WireRemember ...      0\n",
       "23479  21st Century Wire says Al Jazeera America will...      0\n",
       "23480  21st Century Wire says As 21WIRE predicted in ...      0\n",
       "\n",
       "[44898 rows x 2 columns]"
      ]
     },
     "execution_count": 117,
     "metadata": {},
     "output_type": "execute_result"
    }
   ],
   "source": [
    "news"
   ]
  },
  {
   "cell_type": "markdown",
   "id": "111070fd-f34d-4038-bb0c-2795d7311edb",
   "metadata": {},
   "source": [
    "The titles of these articles are also going to be removed in addition to the subject and data columns before creating our training and testing datasets. This is because, in my past experiences, titles can be misleading and potentially be hard to analyze when it comes to the truth of an article, as they are often written in such a way that users will check out the articles presented. So, the main focus of this analysis will be determining truth from the actual text of each article."
   ]
  },
  {
   "cell_type": "code",
   "execution_count": 118,
   "id": "47d19256-fa26-4b28-a25e-c804267c0c23",
   "metadata": {},
   "outputs": [],
   "source": [
    "# Split into train & test datasets (80:20 split)\n",
    "target = \"Truth\"\n",
    "\n",
    "X = news['text']\n",
    "y = news[target].copy()\n",
    "\n",
    "X_train, X_test, y_train, y_test = train_test_split(X, y,\n",
    "                                                    test_size=0.2,\n",
    "                                                    random_state=7\n",
    "                                                    )"
   ]
  },
  {
   "cell_type": "code",
   "execution_count": 119,
   "id": "d67aafbd-c29d-45ff-8b27-70c23b4e1617",
   "metadata": {},
   "outputs": [
    {
     "data": {
      "text/plain": [
       "15852    Poor little Al if he s not race baiting, he s ...\n",
       "16604    How bad is it in Venezuela? People are eating ...\n",
       "20950    Now we know the reason it took so long for any...\n",
       "21359    BERLIN (Reuters) - Turkey will never be a memb...\n",
       "11388    LIMA (Reuters) - The Fujimori clan is at it ag...\n",
       "                               ...                        \n",
       "12723     Members Of The Intelligence Committee Simply ...\n",
       "13927    BRUSSELS (Reuters) - Chancellor Angela Merkel ...\n",
       "919      WASHINGTON (Reuters) - A rare high-level defec...\n",
       "17050    Just take this chemotherapy sweetie..the gover...\n",
       "10742    LAS VEGAS/COLUMBIA, S.C. (Reuters) - Republica...\n",
       "Name: text, Length: 35918, dtype: object"
      ]
     },
     "execution_count": 119,
     "metadata": {},
     "output_type": "execute_result"
    }
   ],
   "source": [
    "X_train"
   ]
  },
  {
   "cell_type": "code",
   "execution_count": 120,
   "id": "e55ea51b-79bb-4dd2-9f08-4b1c34e9a627",
   "metadata": {},
   "outputs": [
    {
     "data": {
      "text/plain": [
       "15852    0\n",
       "16604    0\n",
       "20950    0\n",
       "21359    1\n",
       "11388    1\n",
       "        ..\n",
       "12723    0\n",
       "13927    1\n",
       "919      1\n",
       "17050    0\n",
       "10742    1\n",
       "Name: Truth, Length: 35918, dtype: int64"
      ]
     },
     "execution_count": 120,
     "metadata": {},
     "output_type": "execute_result"
    }
   ],
   "source": [
    "y_train"
   ]
  },
  {
   "cell_type": "code",
   "execution_count": 121,
   "id": "2e8f8c19-90cd-4aa5-98db-42f40f5361de",
   "metadata": {},
   "outputs": [],
   "source": [
    "tfidf_vectorizer = TfidfVectorizer(lowercase=True,\n",
    "                                   stop_words=stopwords.words('english'),\n",
    "                                   smooth_idf=False,\n",
    "                                   sublinear_tf=False,\n",
    "                                   norm=None,\n",
    "                                   analyzer='word',\n",
    "                                   max_features=10000,\n",
    "                                   ngram_range=(1, 3))\n",
    "\n",
    "X_train_vectorized = tfidf_vectorizer.fit_transform(X_train).toarray()\n",
    "X_test_vectorized = tfidf_vectorizer.transform(X_test).toarray()"
   ]
  },
  {
   "cell_type": "markdown",
   "id": "bd5eb333-528d-4ec3-b67a-12a5e8c39254",
   "metadata": {},
   "source": [
    "This TfIdf vectorizer normalizes the text and removes stopwords within the function itself. This allows for the most accurate analysis of each text, as the stop words will have likely been in both fake and true articles. This limits the potential for inaccuracies bassed on those given stop words."
   ]
  },
  {
   "cell_type": "code",
   "execution_count": 122,
   "id": "086f7bf0-bc98-4383-a12d-3ee99826e3e1",
   "metadata": {},
   "outputs": [
    {
     "data": {
      "text/plain": [
       "array([[0., 0., 0., ..., 0., 0., 0.],\n",
       "       [0., 0., 0., ..., 0., 0., 0.],\n",
       "       [0., 0., 0., ..., 0., 0., 0.],\n",
       "       ...,\n",
       "       [0., 0., 0., ..., 0., 0., 0.],\n",
       "       [0., 0., 0., ..., 0., 0., 0.],\n",
       "       [0., 0., 0., ..., 0., 0., 0.]])"
      ]
     },
     "execution_count": 122,
     "metadata": {},
     "output_type": "execute_result"
    }
   ],
   "source": [
    "X_train_vectorized"
   ]
  },
  {
   "cell_type": "code",
   "execution_count": 123,
   "id": "2bf9e75b-6fe8-4071-9451-795304fdb68b",
   "metadata": {},
   "outputs": [
    {
     "data": {
      "text/plain": [
       "(35918,)"
      ]
     },
     "execution_count": 123,
     "metadata": {},
     "output_type": "execute_result"
    }
   ],
   "source": [
    "y_train.shape"
   ]
  },
  {
   "cell_type": "code",
   "execution_count": 124,
   "id": "cdc8e6b7-dcfb-4694-9f8b-8f47f0ae9486",
   "metadata": {},
   "outputs": [],
   "source": [
    "names = [\"Decision Tree\",\n",
    "         \"Extra Trees\",\n",
    "         \"Naive Bayes\",\n",
    "         \"Random Forest\",\n",
    "         ]\n",
    "\n",
    "classifiers = [\n",
    "    DecisionTreeClassifier(max_depth=5),\n",
    "    ExtraTreesClassifier(n_estimators=100, random_state=0),\n",
    "    GaussianNB(),\n",
    "    RandomForestClassifier(n_estimators=50,\n",
    "                           random_state=42,\n",
    "                           criterion='entropy',\n",
    "                           max_depth=None,\n",
    "                           min_samples_split=2),\n",
    "    ]"
   ]
  },
  {
   "cell_type": "code",
   "execution_count": 125,
   "id": "801fbc97-2ff2-49ee-a134-45882eff064f",
   "metadata": {},
   "outputs": [],
   "source": [
    "estimators = [(name, clf) for name, clf in zip(names, classifiers)]\n",
    "eclf1 = VotingClassifier(estimators=estimators, voting='hard')\n",
    "eclf1 = eclf1.fit(X_train_vectorized, y_train)"
   ]
  },
  {
   "cell_type": "code",
   "execution_count": 126,
   "id": "f6946897-13c0-4368-98e0-6834d7b1dca2",
   "metadata": {},
   "outputs": [
    {
     "name": "stdout",
     "output_type": "stream",
     "text": [
      "Decision Tree Accuracy: 99.60%\n",
      "Extra Trees Accuracy: 99.68%\n",
      "Naive Bayes Accuracy: 93.14%\n",
      "Random Forest Accuracy: 99.87%\n"
     ]
    }
   ],
   "source": [
    "for name, clf in zip(names, classifiers):\n",
    "    clf = clf.fit(X_train_vectorized, y_train)\n",
    "\n",
    "    # evaluate predictions\n",
    "    accuracy = clf.score(X_test_vectorized, y_test)\n",
    "    print(\"%s Accuracy: %.2f%%\" % (name, accuracy * 100.0))"
   ]
  },
  {
   "cell_type": "markdown",
   "id": "d4fcac1b-7140-44ab-a223-46248e0ccb73",
   "metadata": {},
   "source": [
    "After using 4 classifiers to make predictions from, the most accurate classifier was the random forest, with a near perfect 99.87% accuracy. Decision trees and extra trees have a 99.60% and 99.68% accuracy respectively, while Naive Bayes has a 93.14% accuracy. This is still very good, but clearly not as strong as the other 3 classifiers utilized in this analysis."
   ]
  },
  {
   "cell_type": "code",
   "execution_count": 127,
   "id": "721aa26a-2710-4b8d-b9f4-1fa2f6388fe9",
   "metadata": {},
   "outputs": [
    {
     "data": {
      "text/html": [
       "<style>#sk-container-id-2 {color: black;background-color: white;}#sk-container-id-2 pre{padding: 0;}#sk-container-id-2 div.sk-toggleable {background-color: white;}#sk-container-id-2 label.sk-toggleable__label {cursor: pointer;display: block;width: 100%;margin-bottom: 0;padding: 0.3em;box-sizing: border-box;text-align: center;}#sk-container-id-2 label.sk-toggleable__label-arrow:before {content: \"▸\";float: left;margin-right: 0.25em;color: #696969;}#sk-container-id-2 label.sk-toggleable__label-arrow:hover:before {color: black;}#sk-container-id-2 div.sk-estimator:hover label.sk-toggleable__label-arrow:before {color: black;}#sk-container-id-2 div.sk-toggleable__content {max-height: 0;max-width: 0;overflow: hidden;text-align: left;background-color: #f0f8ff;}#sk-container-id-2 div.sk-toggleable__content pre {margin: 0.2em;color: black;border-radius: 0.25em;background-color: #f0f8ff;}#sk-container-id-2 input.sk-toggleable__control:checked~div.sk-toggleable__content {max-height: 200px;max-width: 100%;overflow: auto;}#sk-container-id-2 input.sk-toggleable__control:checked~label.sk-toggleable__label-arrow:before {content: \"▾\";}#sk-container-id-2 div.sk-estimator input.sk-toggleable__control:checked~label.sk-toggleable__label {background-color: #d4ebff;}#sk-container-id-2 div.sk-label input.sk-toggleable__control:checked~label.sk-toggleable__label {background-color: #d4ebff;}#sk-container-id-2 input.sk-hidden--visually {border: 0;clip: rect(1px 1px 1px 1px);clip: rect(1px, 1px, 1px, 1px);height: 1px;margin: -1px;overflow: hidden;padding: 0;position: absolute;width: 1px;}#sk-container-id-2 div.sk-estimator {font-family: monospace;background-color: #f0f8ff;border: 1px dotted black;border-radius: 0.25em;box-sizing: border-box;margin-bottom: 0.5em;}#sk-container-id-2 div.sk-estimator:hover {background-color: #d4ebff;}#sk-container-id-2 div.sk-parallel-item::after {content: \"\";width: 100%;border-bottom: 1px solid gray;flex-grow: 1;}#sk-container-id-2 div.sk-label:hover label.sk-toggleable__label {background-color: #d4ebff;}#sk-container-id-2 div.sk-serial::before {content: \"\";position: absolute;border-left: 1px solid gray;box-sizing: border-box;top: 0;bottom: 0;left: 50%;z-index: 0;}#sk-container-id-2 div.sk-serial {display: flex;flex-direction: column;align-items: center;background-color: white;padding-right: 0.2em;padding-left: 0.2em;position: relative;}#sk-container-id-2 div.sk-item {position: relative;z-index: 1;}#sk-container-id-2 div.sk-parallel {display: flex;align-items: stretch;justify-content: center;background-color: white;position: relative;}#sk-container-id-2 div.sk-item::before, #sk-container-id-2 div.sk-parallel-item::before {content: \"\";position: absolute;border-left: 1px solid gray;box-sizing: border-box;top: 0;bottom: 0;left: 50%;z-index: -1;}#sk-container-id-2 div.sk-parallel-item {display: flex;flex-direction: column;z-index: 1;position: relative;background-color: white;}#sk-container-id-2 div.sk-parallel-item:first-child::after {align-self: flex-end;width: 50%;}#sk-container-id-2 div.sk-parallel-item:last-child::after {align-self: flex-start;width: 50%;}#sk-container-id-2 div.sk-parallel-item:only-child::after {width: 0;}#sk-container-id-2 div.sk-dashed-wrapped {border: 1px dashed gray;margin: 0 0.4em 0.5em 0.4em;box-sizing: border-box;padding-bottom: 0.4em;background-color: white;}#sk-container-id-2 div.sk-label label {font-family: monospace;font-weight: bold;display: inline-block;line-height: 1.2em;}#sk-container-id-2 div.sk-label-container {text-align: center;}#sk-container-id-2 div.sk-container {/* jupyter's `normalize.less` sets `[hidden] { display: none; }` but bootstrap.min.css set `[hidden] { display: none !important; }` so we also need the `!important` here to be able to override the default hidden behavior on the sphinx rendered scikit-learn.org. See: https://github.com/scikit-learn/scikit-learn/issues/21755 */display: inline-block !important;position: relative;}#sk-container-id-2 div.sk-text-repr-fallback {display: none;}</style><div id=\"sk-container-id-2\" class=\"sk-top-container\"><div class=\"sk-text-repr-fallback\"><pre>VotingClassifier(estimators=[(&#x27;Decision Tree&#x27;,\n",
       "                              DecisionTreeClassifier(max_depth=5)),\n",
       "                             (&#x27;Extra Trees&#x27;,\n",
       "                              ExtraTreesClassifier(random_state=0)),\n",
       "                             (&#x27;Naive Bayes&#x27;, GaussianNB()),\n",
       "                             (&#x27;Random Forest&#x27;,\n",
       "                              RandomForestClassifier(criterion=&#x27;entropy&#x27;,\n",
       "                                                     n_estimators=50,\n",
       "                                                     random_state=42))])</pre><b>In a Jupyter environment, please rerun this cell to show the HTML representation or trust the notebook. <br />On GitHub, the HTML representation is unable to render, please try loading this page with nbviewer.org.</b></div><div class=\"sk-container\" hidden><div class=\"sk-item sk-dashed-wrapped\"><div class=\"sk-label-container\"><div class=\"sk-label sk-toggleable\"><input class=\"sk-toggleable__control sk-hidden--visually\" id=\"sk-estimator-id-6\" type=\"checkbox\" ><label for=\"sk-estimator-id-6\" class=\"sk-toggleable__label sk-toggleable__label-arrow\">VotingClassifier</label><div class=\"sk-toggleable__content\"><pre>VotingClassifier(estimators=[(&#x27;Decision Tree&#x27;,\n",
       "                              DecisionTreeClassifier(max_depth=5)),\n",
       "                             (&#x27;Extra Trees&#x27;,\n",
       "                              ExtraTreesClassifier(random_state=0)),\n",
       "                             (&#x27;Naive Bayes&#x27;, GaussianNB()),\n",
       "                             (&#x27;Random Forest&#x27;,\n",
       "                              RandomForestClassifier(criterion=&#x27;entropy&#x27;,\n",
       "                                                     n_estimators=50,\n",
       "                                                     random_state=42))])</pre></div></div></div><div class=\"sk-parallel\"><div class=\"sk-parallel-item\"><div class=\"sk-item\"><div class=\"sk-label-container\"><div class=\"sk-label sk-toggleable\"><label>Decision Tree</label></div></div><div class=\"sk-serial\"><div class=\"sk-item\"><div class=\"sk-estimator sk-toggleable\"><input class=\"sk-toggleable__control sk-hidden--visually\" id=\"sk-estimator-id-7\" type=\"checkbox\" ><label for=\"sk-estimator-id-7\" class=\"sk-toggleable__label sk-toggleable__label-arrow\">DecisionTreeClassifier</label><div class=\"sk-toggleable__content\"><pre>DecisionTreeClassifier(max_depth=5)</pre></div></div></div></div></div></div><div class=\"sk-parallel-item\"><div class=\"sk-item\"><div class=\"sk-label-container\"><div class=\"sk-label sk-toggleable\"><label>Extra Trees</label></div></div><div class=\"sk-serial\"><div class=\"sk-item\"><div class=\"sk-estimator sk-toggleable\"><input class=\"sk-toggleable__control sk-hidden--visually\" id=\"sk-estimator-id-8\" type=\"checkbox\" ><label for=\"sk-estimator-id-8\" class=\"sk-toggleable__label sk-toggleable__label-arrow\">ExtraTreesClassifier</label><div class=\"sk-toggleable__content\"><pre>ExtraTreesClassifier(random_state=0)</pre></div></div></div></div></div></div><div class=\"sk-parallel-item\"><div class=\"sk-item\"><div class=\"sk-label-container\"><div class=\"sk-label sk-toggleable\"><label>Naive Bayes</label></div></div><div class=\"sk-serial\"><div class=\"sk-item\"><div class=\"sk-estimator sk-toggleable\"><input class=\"sk-toggleable__control sk-hidden--visually\" id=\"sk-estimator-id-9\" type=\"checkbox\" ><label for=\"sk-estimator-id-9\" class=\"sk-toggleable__label sk-toggleable__label-arrow\">GaussianNB</label><div class=\"sk-toggleable__content\"><pre>GaussianNB()</pre></div></div></div></div></div></div><div class=\"sk-parallel-item\"><div class=\"sk-item\"><div class=\"sk-label-container\"><div class=\"sk-label sk-toggleable\"><label>Random Forest</label></div></div><div class=\"sk-serial\"><div class=\"sk-item\"><div class=\"sk-estimator sk-toggleable\"><input class=\"sk-toggleable__control sk-hidden--visually\" id=\"sk-estimator-id-10\" type=\"checkbox\" ><label for=\"sk-estimator-id-10\" class=\"sk-toggleable__label sk-toggleable__label-arrow\">RandomForestClassifier</label><div class=\"sk-toggleable__content\"><pre>RandomForestClassifier(criterion=&#x27;entropy&#x27;, n_estimators=50, random_state=42)</pre></div></div></div></div></div></div></div></div></div></div>"
      ],
      "text/plain": [
       "VotingClassifier(estimators=[('Decision Tree',\n",
       "                              DecisionTreeClassifier(max_depth=5)),\n",
       "                             ('Extra Trees',\n",
       "                              ExtraTreesClassifier(random_state=0)),\n",
       "                             ('Naive Bayes', GaussianNB()),\n",
       "                             ('Random Forest',\n",
       "                              RandomForestClassifier(criterion='entropy',\n",
       "                                                     n_estimators=50,\n",
       "                                                     random_state=42))])"
      ]
     },
     "execution_count": 127,
     "metadata": {},
     "output_type": "execute_result"
    }
   ],
   "source": [
    "eclf1"
   ]
  },
  {
   "cell_type": "code",
   "execution_count": 128,
   "id": "6c244f52-90c1-48b8-9db8-c28401b7dbd3",
   "metadata": {},
   "outputs": [],
   "source": [
    "predictions = eclf1.predict(X_test_vectorized)"
   ]
  },
  {
   "cell_type": "code",
   "execution_count": 129,
   "id": "75d2489e-e9ea-447f-b356-17d931d5dd2d",
   "metadata": {},
   "outputs": [
    {
     "name": "stdout",
     "output_type": "stream",
     "text": [
      "CONFUSION MATRIX:\n",
      "\n",
      "[[4671    4]\n",
      " [   6 4299]]\n"
     ]
    },
    {
     "data": {
      "image/png": "[encoded data removed]",
      "text/plain": [
       "<Figure size 640x480 with 2 Axes>"
      ]
     },
     "metadata": {},
     "output_type": "display_data"
    },
    {
     "name": "stdout",
     "output_type": "stream",
     "text": [
      "CLASSIFICATION REPORT:\n",
      "\n",
      "              precision    recall  f1-score   support\n",
      "\n",
      "           0       1.00      1.00      1.00      4675\n",
      "           1       1.00      1.00      1.00      4305\n",
      "\n",
      "    accuracy                           1.00      8980\n",
      "   macro avg       1.00      1.00      1.00      8980\n",
      "weighted avg       1.00      1.00      1.00      8980\n",
      "\n"
     ]
    }
   ],
   "source": [
    "# confusion matrix\n",
    "conf_mat = confusion_matrix(y_test, predictions)\n",
    "\n",
    "print('CONFUSION MATRIX:\\n\\n{}'.format(conf_mat))\n",
    "\n",
    "ax = plt.subplot()\n",
    "sns.heatmap(conf_mat/np.sum(conf_mat), annot=True, ax=ax, cmap='Greens', fmt='.2%')\n",
    "\n",
    "# labels, title and ticks\n",
    "ax.set_xlabel('Predicted labels')\n",
    "ax.set_ylabel('Real labels')\n",
    "ax.xaxis.set_ticklabels(['False', 'True'])\n",
    "ax.yaxis.set_ticklabels(['False', 'True'])\n",
    "plt.show()\n",
    "\n",
    "# classification report\n",
    "print('CLASSIFICATION REPORT:\\n\\n{}'.format(classification_report(\n",
    "                                                y_test,\n",
    "                                                predictions)))"
   ]
  },
  {
   "cell_type": "code",
   "execution_count": 130,
   "id": "069cf360-2547-4ff2-a4c3-92f89b10e8a1",
   "metadata": {},
   "outputs": [
    {
     "name": "stdout",
     "output_type": "stream",
     "text": [
      "Accuracy: 99.89%\n"
     ]
    }
   ],
   "source": [
    "# Evaluating predictions\n",
    "accuracy = eclf1.score(X_test_vectorized, y_test)\n",
    "print(\"Accuracy: %.2f%%\" % (accuracy * 100.0))"
   ]
  },
  {
   "cell_type": "markdown",
   "id": "cf44f15e-4ea0-4141-a7c2-957dce8aee98",
   "metadata": {},
   "source": [
    "From the four classifiers utilized, as well as a voting classifier to ensemble them, the final accuracy of the model when used against our test dataset is 99.89%. This is nearly perfect, and according to the confusion matrix, only 10 articles of the 8980 in the test dataset were mislabeled as either true or false. It would be interesting to now test this accuracy on an external dataset to see if the model truly works on other, new data."
   ]
  },
  {
   "cell_type": "code",
   "execution_count": null,
   "id": "e66907e6-6811-4254-a663-8002521c2890",
   "metadata": {},
   "outputs": [],
   "source": []
  }
 ],
 "metadata": {
  "kernelspec": {
   "display_name": "Python 3 (ipykernel)",
   "language": "python",
   "name": "python3"
  },
  "language_info": {
   "codemirror_mode": {
    "name": "ipython",
    "version": 3
   },
   "file_extension": ".py",
   "mimetype": "text/x-python",
   "name": "python",
   "nbconvert_exporter": "python",
   "pygments_lexer": "ipython3",
   "version": "3.10.8"
  }
 },
 "nbformat": 4,
 "nbformat_minor": 5
}
